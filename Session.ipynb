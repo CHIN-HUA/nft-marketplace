{
  "nbformat": 4,
  "nbformat_minor": 0,
  "metadata": {
    "colab": {
      "name": "Session.ipynb",
      "provenance": [],
      "authorship_tag": "ABX9TyM5N0ZRULI2M6LrbpnNYU2k",
      "include_colab_link": true
    },
    "kernelspec": {
      "name": "python3",
      "display_name": "Python 3"
    },
    "language_info": {
      "name": "python"
    }
  },
  "cells": [
    {
      "cell_type": "markdown",
      "metadata": {
        "id": "view-in-github",
        "colab_type": "text"
      },
      "source": [
        "<a href=\"https://colab.research.google.com/github/CHIN-HUA/nft-marketplace/blob/polygon_and_music/Session.ipynb\" target=\"_parent\"><img src=\"https://colab.research.google.com/assets/colab-badge.svg\" alt=\"Open In Colab\"/></a>"
      ]
    },
    {
      "cell_type": "code",
      "execution_count": 7,
      "metadata": {
        "colab": {
          "base_uri": "https://localhost:8080/"
        },
        "id": "ix-YzVl0eewM",
        "outputId": "e93229e5-cc79-46e8-9980-c5487aba7d61"
      },
      "outputs": [
        {
          "output_type": "stream",
          "name": "stdout",
          "text": [
            "WARNING:tensorflow:From /usr/local/lib/python3.7/dist-packages/tensorflow/python/compat/v2_compat.py:107: disable_resource_variables (from tensorflow.python.ops.variable_scope) is deprecated and will be removed in a future version.\n",
            "Instructions for updating:\n",
            "non-resource variables are not supported in the long term\n",
            "[[12]]\n",
            "[[12]]\n"
          ]
        }
      ],
      "source": [
        "from __future__ import print_function\n",
        "import tensorflow.compat.v1 as tf\n",
        "tf.disable_v2_behavior()\n",
        "\n",
        "matrix1 = tf.constant([[3, 3]])\n",
        "matrix2 = tf.constant([[2],\n",
        "                       [2]])\n",
        "product = tf.matmul(matrix1, matrix2)  # matrix multiply np.dot(m1, m2)\n",
        "\n",
        "# method 1\n",
        "sess = tf.Session()\n",
        "result = sess.run(product)\n",
        "print(result)\n",
        "sess.close()\n",
        "\n",
        "# method 2\n",
        "with tf.Session() as sess:\n",
        "    result2 = sess.run(product)\n",
        "    print(result2)"
      ]
    }
  ]
}