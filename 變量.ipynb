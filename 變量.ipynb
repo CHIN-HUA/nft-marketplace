{
  "nbformat": 4,
  "nbformat_minor": 0,
  "metadata": {
    "colab": {
      "name": "變量.ipynb",
      "provenance": [],
      "authorship_tag": "ABX9TyPSnQDCCwio2ejAF+6hvpkZ",
      "include_colab_link": true
    },
    "kernelspec": {
      "name": "python3",
      "display_name": "Python 3"
    },
    "language_info": {
      "name": "python"
    }
  },
  "cells": [
    {
      "cell_type": "markdown",
      "metadata": {
        "id": "view-in-github",
        "colab_type": "text"
      },
      "source": [
        "<a href=\"https://colab.research.google.com/github/CHIN-HUA/nft-marketplace/blob/polygon_and_music/%E8%AE%8A%E9%87%8F.ipynb\" target=\"_parent\"><img src=\"https://colab.research.google.com/assets/colab-badge.svg\" alt=\"Open In Colab\"/></a>"
      ]
    },
    {
      "cell_type": "code",
      "execution_count": 1,
      "metadata": {
        "colab": {
          "base_uri": "https://localhost:8080/"
        },
        "id": "xtHmW0kkoAar",
        "outputId": "7176ec21-2191-4893-e1d4-a20ea8b7b322"
      },
      "outputs": [
        {
          "output_type": "stream",
          "name": "stdout",
          "text": [
            "WARNING:tensorflow:From /usr/local/lib/python3.7/dist-packages/tensorflow/python/compat/v2_compat.py:107: disable_resource_variables (from tensorflow.python.ops.variable_scope) is deprecated and will be removed in a future version.\n",
            "Instructions for updating:\n",
            "non-resource variables are not supported in the long term\n",
            "1\n",
            "2\n",
            "3\n"
          ]
        }
      ],
      "source": [
        "from __future__ import print_function\n",
        "import tensorflow.compat.v1 as tf\n",
        "tf.disable_v2_behavior()\n",
        "\n",
        "state = tf.Variable(0, name='counter')\n",
        "#print(state.name)\n",
        "one = tf.constant(1)\n",
        "\n",
        "new_value = tf.add(state, one)\n",
        "update = tf.assign(state, new_value)\n",
        "\n",
        "# tf.initialize_all_variables() no long valid from\n",
        "# 2017-03-02 if using tensorflow >= 0.12\n",
        "if int((tf.__version__).split('.')[1]) < 12 and int((tf.__version__).split('.')[0]) < 1:\n",
        "    init = tf.initialize_all_variables()\n",
        "else:\n",
        "    init = tf.global_variables_initializer()\n",
        "\n",
        "with tf.Session() as sess:\n",
        "    sess.run(init)\n",
        "    for _ in range(3):\n",
        "        sess.run(update)\n",
        "        print(sess.run(state))"
      ]
    }
  ]
}