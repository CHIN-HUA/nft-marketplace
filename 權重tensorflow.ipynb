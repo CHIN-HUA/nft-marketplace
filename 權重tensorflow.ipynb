{
  "nbformat": 4,
  "nbformat_minor": 0,
  "metadata": {
    "colab": {
      "name": "權重tensorflow.ipynb",
      "provenance": [],
      "authorship_tag": "ABX9TyOoj8O/e529szWmoFy9Op3Q",
      "include_colab_link": true
    },
    "kernelspec": {
      "name": "python3",
      "display_name": "Python 3"
    },
    "language_info": {
      "name": "python"
    }
  },
  "cells": [
    {
      "cell_type": "markdown",
      "metadata": {
        "id": "view-in-github",
        "colab_type": "text"
      },
      "source": [
        "<a href=\"https://colab.research.google.com/github/CHIN-HUA/nft-marketplace/blob/polygon_and_music/%E6%AC%8A%E9%87%8Dtensorflow.ipynb\" target=\"_parent\"><img src=\"https://colab.research.google.com/assets/colab-badge.svg\" alt=\"Open In Colab\"/></a>"
      ]
    },
    {
      "cell_type": "code",
      "execution_count": 3,
      "metadata": {
        "colab": {
          "base_uri": "https://localhost:8080/"
        },
        "id": "rsoBbAbOjsQC",
        "outputId": "13fa5293-eef0-49ab-dedc-c28e97093482"
      },
      "outputs": [
        {
          "output_type": "stream",
          "name": "stdout",
          "text": [
            "0 [0.4580862] [0.14303748]\n",
            "20 [0.17513163] [0.25979093]\n",
            "40 [0.11642548] [0.2912094]\n",
            "60 [0.10359098] [0.29807818]\n",
            "80 [0.10078508] [0.29957986]\n",
            "100 [0.10017161] [0.29990816]\n",
            "120 [0.10003752] [0.29997993]\n",
            "140 [0.1000082] [0.29999563]\n",
            "160 [0.1000018] [0.29999906]\n",
            "180 [0.1000004] [0.2999998]\n",
            "200 [0.10000007] [0.29999998]\n"
          ]
        }
      ],
      "source": [
        "from __future__ import print_function\n",
        "import tensorflow.compat.v1 as tf\n",
        "tf.disable_v2_behavior()\n",
        "import numpy as np\n",
        "\n",
        "# create data\n",
        "x_data = np.random.rand(100).astype(np.float32)\n",
        "y_data = x_data*0.1 + 0.3\n",
        "\n",
        "### create tensorflow structure start ###\n",
        "Weights = tf.Variable(tf.random_uniform([1], -1.0, 1.0))\n",
        "biases = tf.Variable(tf.zeros([1]))\n",
        "\n",
        "y = Weights*x_data + biases\n",
        "\n",
        "loss = tf.reduce_mean(tf.square(y-y_data))\n",
        "optimizer = tf.train.GradientDescentOptimizer(0.5)\n",
        "train = optimizer.minimize(loss)\n",
        "### create tensorflow structure end ###\n",
        "\n",
        "sess = tf.Session()\n",
        "# tf.initialize_all_variables() no long valid from\n",
        "# 2017-03-02 if using tensorflow >= 0.12\n",
        "if int((tf.__version__).split('.')[1]) < 12 and int((tf.__version__).split('.')[0]) < 1:\n",
        "    init = tf.initialize_all_variables()\n",
        "else:\n",
        "    init = tf.global_variables_initializer()\n",
        "sess.run(init)\n",
        "\n",
        "for step in range(201):\n",
        "    sess.run(train)\n",
        "    if step % 20 == 0:\n",
        "        print(step, sess.run(Weights), sess.run(biases))"
      ]
    }
  ]
}